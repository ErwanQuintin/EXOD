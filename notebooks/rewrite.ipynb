{
 "cells": [
  {
   "cell_type": "code",
   "execution_count": 53,
   "id": "72adde4a-d5d7-4960-bb39-844f9037c08b",
   "metadata": {},
   "outputs": [],
   "source": [
    "from dataclasses import dataclass"
   ]
  },
  {
   "cell_type": "code",
   "execution_count": 54,
   "id": "34eb8a65-f71a-4edc-980f-5e1e696fc106",
   "metadata": {},
   "outputs": [],
   "source": [
    "path=\"../example/0001730201/\",\n",
    "out=\"../data/\",\n",
    "bs=3,\n",
    "dl=10,\n",
    "tw=100.0,\n",
    "gtr=1.0,\n",
    "mta=8,\n",
    "creator=\"nkhan\",\n",
    "obs=\"0001730201\",\n",
    "inst=\"PN\",\n",
    "render=False,\n",
    "ds9=False,\n",
    "novar=False,\n",
    "evts=\"../example/0001730201/PN_clean.fits\",\n",
    "gti=\"../example/0001730201/PN_gti.fits\",\n",
    "img=\"../example/0001730201/PN_image.fits\""
   ]
  },
  {
   "cell_type": "code",
   "execution_count": 52,
   "id": "3491e55e-5096-4f6a-850e-336543fab9e6",
   "metadata": {},
   "outputs": [],
   "source": [
    "@dataclass\n",
    "class DataLoaderConfig:\n",
    "    path_observation : str = '../example/0001730201/'\n",
    "    instrument       : str = 'PN'            # one of 'MOS1', 'MOS2, 'PN'\n",
    "    observation_id   : str = '0001730201'\n",
    "\n",
    "@dataclass\n",
    "class DetectorConfig:\n",
    "    box_size        : int   = 3\n",
    "    detection_limit : int   = 10    \n",
    "    time_window     : float = 100.0   \n",
    "    good_time_ratio : float = 1.0\n",
    "    energy_low      : float = 0.2\n",
    "    energy_high     : float = 12.0\n",
    "    \n",
    "@dataclass\n",
    "class CrossMatchConfig:\n",
    "    seperation_cutoff : float = 600   # Seperation cutoff from calc_all_seperations\n",
    "    seperation_cutoff : float = 25    # Seperation cutoff from detect_final_corr\n",
    "    seperation_simbad : float = 30.01 # Seperation used in match_with_simbad\n",
    "    radius_simbad     : float = 0.83  # Radius used in match with simbad (degrees)\n",
    "    seperation_bright : float = 60    # Radius used to remove bright sources\n",
    "    seperation_xmmcat : float = 30    # Radius used in XMM correlation\n",
    "\n",
    "@dataclass\n",
    "class ResultsConfig:\n",
    "    path_output : str = \"../data/\"\n",
    "    calc_KS     : bool = True\n",
    "\n",
    "@dataclass\n",
    "class GlobalConfig:\n",
    "    data_loader : DataLoaderConfig\n",
    "    detector    : DetectorConfig\n",
    "    crossmatch  : CrossMatchConfig\n",
    "    results     : ResultsConfig"
   ]
  },
  {
   "cell_type": "code",
   "execution_count": 46,
   "id": "6dd59aea-2f26-4a98-afd2-f879beff681e",
   "metadata": {},
   "outputs": [],
   "source": [
    "cfg_data_loader = DataLoaderConfig()\n",
    "cfg_detector    = DetectorConfig()\n",
    "cfg_detector    = CrossMatchConfig()\n",
    "cfg_results     = ResultsConfig()\n",
    "cfg = GlobalConfig(data_loader=cfg_data_loader,\n",
    "                   detector=cfg_detector,\n",
    "                   crossmatch=cfg_detector,\n",
    "                   results=cfg_results)"
   ]
  },
  {
   "cell_type": "code",
   "execution_count": 48,
   "id": "a9f4c34a-88ab-416a-ac5e-5e700fc87e1c",
   "metadata": {},
   "outputs": [],
   "source": [
    "class Detector:\n",
    "    def __init__(self, config):\n",
    "        self.config = config"
   ]
  },
  {
   "cell_type": "code",
   "execution_count": 45,
   "id": "1b2f7df0-3484-4384-b127-a5c33910fda6",
   "metadata": {},
   "outputs": [],
   "source": [
    "config = DetectorConfig()\n",
    "detector = Detector(config)"
   ]
  },
  {
   "cell_type": "code",
   "execution_count": 55,
   "id": "99deb065-2903-4fb1-82d4-005f19c4e95a",
   "metadata": {},
   "outputs": [
    {
     "ename": "NameError",
     "evalue": "name 'data_loader' is not defined",
     "output_type": "error",
     "traceback": [
      "\u001b[0;31m---------------------------------------------------------------------------\u001b[0m",
      "\u001b[0;31mNameError\u001b[0m                                 Traceback (most recent call last)",
      "Cell \u001b[0;32mIn[55], line 1\u001b[0m\n\u001b[0;32m----> 1\u001b[0m \u001b[43mdata_loader\u001b[49m\u001b[38;5;241m.\u001b[39mload()\n\u001b[1;32m      2\u001b[0m data_loader\n\u001b[1;32m      3\u001b[0m V         \u001b[38;5;241m=\u001b[39m detector\u001b[38;5;241m.\u001b[39mcalc_variability()\n",
      "\u001b[0;31mNameError\u001b[0m: name 'data_loader' is not defined"
     ]
    }
   ],
   "source": [
    "data_loader.load()\n",
    "data_loader\n",
    "V         = detector.calc_variability()\n",
    "V_areas   = detector.calc_variable_areas(V)\n",
    "V_sources = detector.calc_variable_sources(V_areas)"
   ]
  },
  {
   "cell_type": "code",
   "execution_count": null,
   "id": "6a5842ea-3947-440b-8b0e-58f315c80c80",
   "metadata": {},
   "outputs": [],
   "source": []
  },
  {
   "cell_type": "code",
   "execution_count": null,
   "id": "6cdcddc6-b7a1-41d0-af12-40475e223647",
   "metadata": {},
   "outputs": [],
   "source": []
  },
  {
   "cell_type": "code",
   "execution_count": null,
   "id": "e4ffdeb6-d4ba-4632-90b5-ef979654bae0",
   "metadata": {},
   "outputs": [],
   "source": []
  },
  {
   "cell_type": "code",
   "execution_count": null,
   "id": "536426c6-007a-45d0-8abe-effb6751cd72",
   "metadata": {},
   "outputs": [],
   "source": []
  }
 ],
 "metadata": {
  "kernelspec": {
   "display_name": "Python 3 (ipykernel)",
   "language": "python",
   "name": "python3"
  },
  "language_info": {
   "codemirror_mode": {
    "name": "ipython",
    "version": 3
   },
   "file_extension": ".py",
   "mimetype": "text/x-python",
   "name": "python",
   "nbconvert_exporter": "python",
   "pygments_lexer": "ipython3",
   "version": "3.12.0"
  }
 },
 "nbformat": 4,
 "nbformat_minor": 5
}
